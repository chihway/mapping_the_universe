{
  "cells": [
    {
      "cell_type": "markdown",
      "metadata": {
        "id": "view-in-github",
        "colab_type": "text"
      },
      "source": [
        "<a href=\"https://colab.research.google.com/github/chihway/mapping_the_universe/blob/main/Basic/Tutorial%201%20-%20Python%20Basics.ipynb\" target=\"_parent\"><img src=\"https://colab.research.google.com/assets/colab-badge.svg\" alt=\"Open In Colab\"/></a>"
      ]
    },
    {
      "cell_type": "markdown",
      "metadata": {
        "id": "1Aq02iTatJ9Q"
      },
      "source": [
        "# Tutorial 1 - Python Basics\n",
        "\n",
        "This is the first tutorial, where we start by introducing some basic concepts in Python. In this tutorial you will be able to\n",
        "\n",
        "* import modules\n",
        "* define variables and do some basic algebra\n",
        "* become familiar with numpy arrays and their operations\n",
        "* become familiar with python lists and their operations\n",
        "* understand how to define a python function\n",
        "* understand for loops and while loops\n",
        "* make basic plots\n",
        "\n",
        "If you already know all of this, feel free to skip to Tutorial 2 - Galaxy Catalogs."
      ]
    },
    {
      "cell_type": "markdown",
      "metadata": {
        "id": "x_9GYsXztJ9R"
      },
      "source": [
        "Here are a number of important python packages that you will likely encounter on a daily basis:\n",
        "\n",
        "* `NumPy`: combines functionality to work with arrays (see: http://www.numpy.org)\n",
        "* `SciPy`: module containing a lot of general scientific routines, methods, functions, distributions (see: http://www.scipy.org/scipylib/index.html)\n",
        "* `matplotlib`: contains all routines for plotting (see http://matplotlib.org)"
      ]
    },
    {
      "cell_type": "code",
      "execution_count": null,
      "metadata": {
        "id": "ihdTuITXtJ9R"
      },
      "outputs": [],
      "source": []
    }
  ],
  "metadata": {
    "kernelspec": {
      "display_name": "Python 3 (ipykernel)",
      "language": "python",
      "name": "python3"
    },
    "language_info": {
      "codemirror_mode": {
        "name": "ipython",
        "version": 3
      },
      "file_extension": ".py",
      "mimetype": "text/x-python",
      "name": "python",
      "nbconvert_exporter": "python",
      "pygments_lexer": "ipython3",
      "version": "3.8.6"
    },
    "colab": {
      "provenance": [],
      "include_colab_link": true
    }
  },
  "nbformat": 4,
  "nbformat_minor": 0
}