{
 "cells": [
  {
   "cell_type": "markdown",
   "metadata": {
    "colab_type": "text",
    "id": "view-in-github"
   },
   "source": [
    "<a href=\"https://colab.research.google.com/github/chihway/mapping_the_universe/blob/main/Basic/Tutorial%201%20-%20Python%20Basics.ipynb\" target=\"_parent\"><img src=\"https://colab.research.google.com/assets/colab-badge.svg\" alt=\"Open In Colab\"/></a>"
   ]
  },
  {
   "cell_type": "markdown",
   "metadata": {
    "id": "1Aq02iTatJ9Q"
   },
   "source": [
    "# Tutorial 1 - Python Basics\n",
    "\n",
    "This is the first tutorial, where we start by introducing some basic concepts in Python. In this tutorial you will be able to\n",
    "\n",
    "* import modules\n",
    "* define variables and do some basic algebra\n",
    "* become familiar with numpy arrays and their operations\n",
    "* become familiar with python lists and their operations\n",
    "* understand how to define a python function\n",
    "* understand for loops and while loops\n",
    "* perform some basic operations with scipy\n",
    "* make basic plots with matplotlib\n",
    "\n",
    "If you already know all of this, feel free to skip to [Tutorial 2 - Galaxy Catalogs](https://github.com/chihway/mapping_the_universe/blob/main/Basic/Tutorial%202%20-%20Galaxy%20Catalogs.ipynb)."
   ]
  },
  {
   "cell_type": "markdown",
   "metadata": {
    "id": "x_9GYsXztJ9R"
   },
   "source": [
    "Here are a number of important python packages that you will likely encounter on a daily basis:\n",
    "\n",
    "* `NumPy`: combines functionality to work with arrays (see: http://www.numpy.org)\n",
    "* `SciPy`: module containing a lot of general scientific routines, methods, functions, distributions (see: http://www.scipy.org/scipylib/index.html)\n",
    "* `matplotlib`: contains all routines for plotting (see http://matplotlib.org)"
   ]
  },
  {
   "cell_type": "markdown",
   "metadata": {},
   "source": [
    "### Import Python packages\n",
    "\n",
    "At the top of the code, usually we need to import the packages that we will be using. The `import... as` syntax allows one to define abbreviated names for the packages."
   ]
  },
  {
   "cell_type": "code",
   "execution_count": 5,
   "metadata": {
    "id": "ihdTuITXtJ9R"
   },
   "outputs": [],
   "source": [
    "import numpy as np\n",
    "import scipy\n",
    "import matplotlib.pyplot as plt"
   ]
  },
  {
   "cell_type": "markdown",
   "metadata": {},
   "source": [
    "### Define variables\n",
    "\n",
    "Variables come in different types. Each variable is an object in Python. An object is a fundamental building block of an object-oriented language like Python. Integers, strings, floating point numbers, even arrays and dictionaries, are all objects. "
   ]
  },
  {
   "cell_type": "code",
   "execution_count": 6,
   "metadata": {},
   "outputs": [
    {
     "name": "stdout",
     "output_type": "stream",
     "text": [
      "8\n",
      "<class 'int'>\n"
     ]
    }
   ],
   "source": [
    "# integer objects\n",
    "myvar = 8\n",
    "print(myvar)\n",
    "print(type(myvar))"
   ]
  },
  {
   "cell_type": "code",
   "execution_count": 7,
   "metadata": {},
   "outputs": [
    {
     "name": "stdout",
     "output_type": "stream",
     "text": [
      "8.0\n",
      "<class 'float'>\n"
     ]
    }
   ],
   "source": [
    "# float objects\n",
    "myvar = 8.\n",
    "print(myvar)\n",
    "print(type(myvar))"
   ]
  },
  {
   "cell_type": "code",
   "execution_count": 8,
   "metadata": {},
   "outputs": [
    {
     "name": "stdout",
     "output_type": "stream",
     "text": [
      "hello\n",
      "<class 'str'>\n"
     ]
    }
   ],
   "source": [
    "# string objects\n",
    "myvar = 'hello'\n",
    "print(myvar)\n",
    "print(type(myvar))"
   ]
  },
  {
   "cell_type": "code",
   "execution_count": 10,
   "metadata": {},
   "outputs": [
    {
     "name": "stdout",
     "output_type": "stream",
     "text": [
      "0.8\n"
     ]
    }
   ],
   "source": [
    "# doing algebra with variables (division of integers can give floats)\n",
    "myvar1 = 8\n",
    "myvar2 = 10\n",
    "div = myvar1/myvar2\n",
    "print(div)"
   ]
  },
  {
   "cell_type": "code",
   "execution_count": 11,
   "metadata": {},
   "outputs": [
    {
     "name": "stdout",
     "output_type": "stream",
     "text": [
      "4188.790204786391\n"
     ]
    }
   ],
   "source": [
    "# more algebra - calculate volume of a sphere with radius 10\n",
    "V = 4./3 * np.pi * 10**3\n",
    "print(V)"
   ]
  },
  {
   "cell_type": "markdown",
   "metadata": {},
   "source": [
    "### Numpy arrays\n",
    "\n",
    "Numpy arrays have three basic properties:\n",
    "* `shape`: the size of the array\n",
    "* `ndim`: the dimension of the array \n",
    "* `dtype`: the type of the array\n",
    "\n",
    "For a numpy array A, the indexing of numpy arrays follow these rules: (1) the first index is 0 instead of 1 (2) for a 2d array, the nth row and mth column is indicated by A[n-1,m-1] instead of the other way around.  "
   ]
  },
  {
   "cell_type": "code",
   "execution_count": 12,
   "metadata": {},
   "outputs": [
    {
     "name": "stdout",
     "output_type": "stream",
     "text": [
      "[[0. 0. 0.]\n",
      " [0. 0. 0.]]\n"
     ]
    }
   ],
   "source": [
    "# define an array filled with zeros\n",
    "zeroarr = np.zeros((2,3))\n",
    "print(zeroarr)"
   ]
  },
  {
   "cell_type": "code",
   "execution_count": 13,
   "metadata": {},
   "outputs": [
    {
     "name": "stdout",
     "output_type": "stream",
     "text": [
      "(2, 3)\n",
      "2\n",
      "float64\n",
      "<class 'numpy.ndarray'>\n"
     ]
    }
   ],
   "source": [
    "# properties of this array\n",
    "print(zeroarr.shape)\n",
    "print(zeroarr.ndim)\n",
    "print(zeroarr.dtype)\n",
    "print(type(zeroarr))"
   ]
  },
  {
   "cell_type": "code",
   "execution_count": 14,
   "metadata": {},
   "outputs": [
    {
     "name": "stdout",
     "output_type": "stream",
     "text": [
      "[[1. 1. 1.]\n",
      " [1. 1. 1.]]\n"
     ]
    }
   ],
   "source": [
    "# define an array filled with ones\n",
    "onearr = np.ones((2,3))\n",
    "print(onearr)"
   ]
  },
  {
   "cell_type": "code",
   "execution_count": 15,
   "metadata": {},
   "outputs": [
    {
     "name": "stdout",
     "output_type": "stream",
     "text": [
      "[[0 1 2]\n",
      " [3 4 5]]\n"
     ]
    }
   ],
   "source": [
    "# initialize an array by hand \n",
    "myarr = np.array([[0,1,2],[3,4,5]])\n",
    "print(myarr)"
   ]
  },
  {
   "cell_type": "code",
   "execution_count": 16,
   "metadata": {},
   "outputs": [
    {
     "name": "stdout",
     "output_type": "stream",
     "text": [
      "[[0 1 2]\n",
      " [3 4 5]]\n"
     ]
    }
   ],
   "source": [
    "# reshaping an array\n",
    "myarr = np.arange(6).reshape((2,3))\n",
    "print(myarr)"
   ]
  },
  {
   "cell_type": "code",
   "execution_count": 24,
   "metadata": {},
   "outputs": [
    {
     "data": {
      "text/plain": [
       "2"
      ]
     },
     "execution_count": 24,
     "metadata": {},
     "output_type": "execute_result"
    }
   ],
   "source": [
    "# call the 1st row, 3rd column\n",
    "myarr[0,2]"
   ]
  },
  {
   "cell_type": "code",
   "execution_count": 25,
   "metadata": {},
   "outputs": [
    {
     "data": {
      "text/plain": [
       "array([3, 4, 5])"
      ]
     },
     "execution_count": 25,
     "metadata": {},
     "output_type": "execute_result"
    }
   ],
   "source": [
    "# call everything in the 2nd row\n",
    "myarr[1,:]"
   ]
  },
  {
   "cell_type": "code",
   "execution_count": 26,
   "metadata": {},
   "outputs": [
    {
     "data": {
      "text/plain": [
       "array([2, 5])"
      ]
     },
     "execution_count": 26,
     "metadata": {},
     "output_type": "execute_result"
    }
   ],
   "source": [
    "# call everything in the 3rd column\n",
    "myarr[:,2]"
   ]
  },
  {
   "cell_type": "code",
   "execution_count": 32,
   "metadata": {},
   "outputs": [
    {
     "data": {
      "text/plain": [
       "5"
      ]
     },
     "execution_count": 32,
     "metadata": {},
     "output_type": "execute_result"
    }
   ],
   "source": [
    "# call last element in column 2\n",
    "myarr[-1,2]"
   ]
  },
  {
   "cell_type": "code",
   "execution_count": 27,
   "metadata": {},
   "outputs": [
    {
     "name": "stdout",
     "output_type": "stream",
     "text": [
      "First array\n",
      "[[0 1 2 3 4]\n",
      " [5 6 7 8 9]]\n",
      "Second array\n",
      "[[10 11 12 13 14]\n",
      " [15 16 17 18 19]]\n",
      "Sum of first and second array\n",
      "[[10 12 14 16 18]\n",
      " [20 22 24 26 28]]\n"
     ]
    }
   ],
   "source": [
    "# adding two arrays\n",
    "arr1 = np.arange(10).reshape((2,5))\n",
    "arr2 = np.arange(10, 20).reshape((2,5))\n",
    "print('First array')\n",
    "print(arr1)\n",
    "print('Second array')\n",
    "print(arr2)\n",
    "print('Sum of first and second array')\n",
    "print(arr1+arr2)"
   ]
  },
  {
   "cell_type": "code",
   "execution_count": 28,
   "metadata": {},
   "outputs": [
    {
     "name": "stdout",
     "output_type": "stream",
     "text": [
      "Array\n",
      "[[0 1 2 3 4]\n",
      " [5 6 7 8 9]]\n",
      "Sum the rows of the array\n",
      "[10 35]\n"
     ]
    }
   ],
   "source": [
    "# summing elemnets in an array\n",
    "arr1 = np.arange(10).reshape((2,5))\n",
    "print('Array')\n",
    "print(arr1)\n",
    "print('Sum the rows of the array')\n",
    "print(np.sum(arr1, axis=1))"
   ]
  },
  {
   "cell_type": "code",
   "execution_count": 29,
   "metadata": {},
   "outputs": [
    {
     "name": "stdout",
     "output_type": "stream",
     "text": [
      "First array\n",
      "[1 2 3 4]\n",
      "Second array\n",
      "[2 3 4 5]\n",
      "Multiplication of both arrays\n",
      "[ 2  6 12 20]\n"
     ]
    }
   ],
   "source": [
    "# multiplying two arrays (NOT a matrix multiplication!)\n",
    "arr1 = np.arange(1, 5)\n",
    "arr2 = np.arange(2, 6)\n",
    "print('First array')\n",
    "print(arr1)\n",
    "print('Second array')\n",
    "print(arr2)\n",
    "print('Multiplication of both arrays')\n",
    "print(arr1*arr2)"
   ]
  },
  {
   "cell_type": "code",
   "execution_count": 30,
   "metadata": {},
   "outputs": [
    {
     "name": "stdout",
     "output_type": "stream",
     "text": [
      "First array\n",
      "[[1 2]\n",
      " [3 4]]\n",
      "Second array\n",
      "[[2 3]\n",
      " [4 5]]\n",
      "Matrix multiplication of both arrays\n",
      "[[10 13]\n",
      " [22 29]]\n"
     ]
    }
   ],
   "source": [
    "# matrix multiplication\n",
    "arr1 = np.arange(1, 5).reshape((2,2))\n",
    "arr2 = np.arange(2, 6).reshape((2,2))\n",
    "print('First array')\n",
    "print(arr1)\n",
    "print('Second array')\n",
    "print(arr2)\n",
    "print('Matrix multiplication of both arrays')\n",
    "print(np.dot(arr1,arr2))"
   ]
  },
  {
   "cell_type": "code",
   "execution_count": 31,
   "metadata": {},
   "outputs": [
    {
     "name": "stdout",
     "output_type": "stream",
     "text": [
      "First array\n",
      "[1 2 3 4]\n",
      "Second array\n",
      "[1 2 3 4]\n",
      "First array\n",
      "[   1 1000    3    4]\n",
      "Second array\n",
      "[   1 1000    3    4]\n"
     ]
    }
   ],
   "source": [
    "# common error -- when equating two objects, they will point to the same location\n",
    "arr1 = np.arange(1, 5)\n",
    "arr2 = arr1\n",
    "print('First array')\n",
    "print(arr1)\n",
    "print('Second array')\n",
    "print(arr2)\n",
    "arr1[1] = 1000\n",
    "print('First array')\n",
    "print(arr1)\n",
    "print('Second array')\n",
    "print(arr2)"
   ]
  },
  {
   "cell_type": "markdown",
   "metadata": {},
   "source": [
    "### Python lists\n",
    "\n",
    "Lists in python are defined by square brackets and can mix different types (unlike numpy arrays). As such one cannot do algebra directly on them usually. "
   ]
  },
  {
   "cell_type": "code",
   "execution_count": 33,
   "metadata": {},
   "outputs": [
    {
     "name": "stdout",
     "output_type": "stream",
     "text": [
      "[2, '4', 'adsf', 4.0, [3.0, -7]]\n"
     ]
    }
   ],
   "source": [
    "mylist = [2,'4','adsf',4.,[3.,-7]]\n",
    "print(mylist)"
   ]
  },
  {
   "cell_type": "code",
   "execution_count": 34,
   "metadata": {},
   "outputs": [
    {
     "name": "stdout",
     "output_type": "stream",
     "text": [
      "First list\n",
      "[2, '4', 'adsf', 4.0, [3.0, -7]]\n",
      "Second list\n",
      "['d', True, False, None, 'bka', 2.0]\n",
      "Sum of two lists\n",
      "[2, '4', 'adsf', 4.0, [3.0, -7], 'd', True, False, None, 'bka', 2.0]\n"
     ]
    }
   ],
   "source": [
    "# adding two lists have a different meaning\n",
    "list1 = [2,'4','adsf',4.,[3.,-7]]\n",
    "list2 = ['d',True,False,None,'bka',2.]\n",
    "print('First list')\n",
    "print(list1)\n",
    "print('Second list')\n",
    "print(list2)\n",
    "print('Sum of two lists')\n",
    "print(list1+list2)"
   ]
  },
  {
   "cell_type": "markdown",
   "metadata": {},
   "source": [
    "### Functions\n",
    "\n",
    "Functions can take variables and output the result of some calculation. Here we demonstrate the basic syntax. Note that indentation is meaningful in Python."
   ]
  },
  {
   "cell_type": "code",
   "execution_count": 37,
   "metadata": {},
   "outputs": [],
   "source": [
    "def sum_three(a, b, c=0):\n",
    "    \"\"\"\n",
    "    Computes the sum of two or three numbers\n",
    "    :param a: first number to sum\n",
    "    :param b: second number to sum\n",
    "    :param c: third number to sum, default c=0\n",
    "    :return c: sum of a and b\n",
    "    \"\"\"\n",
    "    d = a + b + c\n",
    "    return d"
   ]
  },
  {
   "cell_type": "code",
   "execution_count": 39,
   "metadata": {},
   "outputs": [
    {
     "name": "stdout",
     "output_type": "stream",
     "text": [
      "23\n",
      "18\n"
     ]
    }
   ],
   "source": [
    "a = 3\n",
    "b = 15\n",
    "c = 5\n",
    "print(sum_three(3, 15, 5))\n",
    "print(sum_three(3, 15))"
   ]
  },
  {
   "cell_type": "markdown",
   "metadata": {},
   "source": [
    "### For loops and while loops\n",
    "\n",
    "For loops and while loops are very common, they have a certain syntax. Again indentation is meaningful here."
   ]
  },
  {
   "cell_type": "code",
   "execution_count": 42,
   "metadata": {},
   "outputs": [
    {
     "name": "stdout",
     "output_type": "stream",
     "text": [
      "i= 0\n",
      "Sum of three numbers\n",
      "3\n",
      "i= 1\n",
      "Sum of three numbers\n",
      "6\n",
      "i= 2\n",
      "Sum of three numbers\n",
      "9\n",
      "i= 3\n",
      "Sum of three numbers\n",
      "12\n",
      "i= 4\n",
      "Sum of three numbers\n",
      "15\n"
     ]
    }
   ],
   "source": [
    " for i in range(5):\n",
    "    print('i=', i)\n",
    "    print('Sum of three numbers')\n",
    "    print(sum_three(i, i+1, i+2))"
   ]
  },
  {
   "cell_type": "code",
   "execution_count": 43,
   "metadata": {},
   "outputs": [
    {
     "name": "stdout",
     "output_type": "stream",
     "text": [
      "3\n",
      "12\n",
      "39\n",
      "120\n"
     ]
    }
   ],
   "source": [
    "X = 0\n",
    "while X<100:\n",
    "    X = sum_three(X, X+1, X+2)\n",
    "    print(X)"
   ]
  },
  {
   "cell_type": "markdown",
   "metadata": {},
   "source": [
    "### Some scipy functions"
   ]
  },
  {
   "cell_type": "code",
   "execution_count": 50,
   "metadata": {},
   "outputs": [
    {
     "data": {
      "text/plain": [
       "<matplotlib.legend.Legend at 0x7fe40829b940>"
      ]
     },
     "execution_count": 50,
     "metadata": {},
     "output_type": "execute_result"
    },
    {
     "data": {
      "image/png": "[encoded data removed]",
      "text/plain": [
       "<Figure size 640x480 with 1 Axes>"
      ]
     },
     "metadata": {},
     "output_type": "display_data"
    }
   ],
   "source": [
    "# plot a chi2 distribution\n",
    "from scipy.stats import chi2\n",
    "\n",
    "df = 55\n",
    "mean, var, skew, kurt = chi2.stats(df, moments='mvsk')\n",
    "\n",
    "x = np.linspace(chi2.ppf(0.01, df),\n",
    "                chi2.ppf(0.99, df), 100)\n",
    "\n",
    "plt.plot(x, chi2.pdf(x, df), label='chi2 pdf')\n",
    "plt.legend()"
   ]
  },
  {
   "cell_type": "code",
   "execution_count": 51,
   "metadata": {},
   "outputs": [],
   "source": [
    "# interpolation\n",
    "\n",
    "from scipy import interpolate\n",
    "\n",
    "x = np.arange(0, 10)\n",
    "y = np.exp(-x/3.0)\n",
    "f = interpolate.interp1d(x, y)"
   ]
  },
  {
   "cell_type": "code",
   "execution_count": null,
   "metadata": {},
   "outputs": [],
   "source": []
  },
  {
   "cell_type": "markdown",
   "metadata": {},
   "source": [
    "### Plotting with matplotlib\n",
    "\n",
    "There is a lot of knobs for plotting, it is easy to google onces you know what you want to plot. Here are two simplest examples."
   ]
  },
  {
   "cell_type": "code",
   "execution_count": 44,
   "metadata": {},
   "outputs": [
    {
     "data": {
      "image/png": "[encoded data removed]",
      "text/plain": [
       "<Figure size 640x480 with 1 Axes>"
      ]
     },
     "metadata": {},
     "output_type": "display_data"
    }
   ],
   "source": [
    "# plotting a sine wave\n",
    "x = np.linspace(0, 2.*np.pi, 1000)\n",
    "y = np.sin(x)\n",
    "\n",
    "fig = plt.figure()\n",
    "ax = fig.add_subplot(111)\n",
    "ax.plot(x, y, color=\"#4682b4\", label=r'$\\sin{\\theta}$')    \n",
    "ax.set_xlabel(r\"$\\theta$\", fontsize=16)\n",
    "ax.set_ylabel(r\"$\\sin{\\theta}$\", fontsize=16)\n",
    "leg = ax.legend(loc='upper right',prop={'size':16})\n",
    "leg.draw_frame(False) "
   ]
  },
  {
   "cell_type": "code",
   "execution_count": 45,
   "metadata": {},
   "outputs": [
    {
     "data": {
      "text/plain": [
       "Text(0.5, 0, 'randarr')"
      ]
     },
     "execution_count": 45,
     "metadata": {},
     "output_type": "execute_result"
    },
    {
     "data": {
      "image/png": "[encoded data removed]",
      "text/plain": [
       "<Figure size 640x480 with 1 Axes>"
      ]
     },
     "metadata": {},
     "output_type": "display_data"
    }
   ],
   "source": [
    "# plotting a histogram of a Gaussian random number\n",
    "n = 10**6\n",
    "mu = 3.\n",
    "sigma = 0.1\n",
    "randarr = mu + sigma*np.random.randn(n)\n",
    "\n",
    "plt.hist(randarr, bins=100)\n",
    "plt.xlabel('randarr')"
   ]
  },
  {
   "cell_type": "code",
   "execution_count": null,
   "metadata": {},
   "outputs": [],
   "source": []
  }
 ],
 "metadata": {
  "colab": {
   "include_colab_link": true,
   "provenance": []
  },
  "kernelspec": {
   "display_name": "Python 3 (ipykernel)",
   "language": "python",
   "name": "python3"
  },
  "language_info": {
   "codemirror_mode": {
    "name": "ipython",
    "version": 3
   },
   "file_extension": ".py",
   "mimetype": "text/x-python",
   "name": "python",
   "nbconvert_exporter": "python",
   "pygments_lexer": "ipython3",
   "version": "3.8.6"
  }
 },
 "nbformat": 4,
 "nbformat_minor": 1
}
